{
 "cells": [
  {
   "cell_type": "markdown",
   "metadata": {},
   "source": [
    "# Friction Factor - Re Relation"
   ]
  },
  {
   "cell_type": "code",
   "execution_count": 694,
   "metadata": {},
   "outputs": [],
   "source": [
    "import numpy as np\n",
    "import pandas as pd\n",
    "import matplotlib.pyplot as plt\n",
    "import math"
   ]
  },
  {
   "cell_type": "markdown",
   "metadata": {},
   "source": [
    "Given Data"
   ]
  },
  {
   "cell_type": "code",
   "execution_count": 695,
   "metadata": {},
   "outputs": [],
   "source": [
    "d = 0.0218   #Diameter of pipe (m)\n",
    "l = 2.725    #Length of pipe (m)\n",
    "dc = 1487    #Density of chloroform (kg/m3)\n",
    "dw = 1000    #Density of water (kg/m3)\n",
    "vw = 0.00095 #Viscosity of water (Pas)\n",
    "g = 9.81     #Gravity (m/s2)\n",
    "\n",
    "A = math.pi*d*d/4  #CS Area (m2)"
   ]
  },
  {
   "cell_type": "markdown",
   "metadata": {},
   "source": [
    "Importing Excel Data"
   ]
  },
  {
   "cell_type": "code",
   "execution_count": 696,
   "metadata": {},
   "outputs": [],
   "source": [
    "df = pd.read_excel(\"PSL3.xlsx\", sheet_name = 'Sheet1')\n",
    "df = df[[\"Flow Rate\",\"delta H\"]]"
   ]
  },
  {
   "cell_type": "markdown",
   "metadata": {},
   "source": [
    "Calculations"
   ]
  },
  {
   "cell_type": "code",
   "execution_count": 697,
   "metadata": {},
   "outputs": [],
   "source": [
    "df[\"delta P\"] = np.around(df[\"delta H\"]*(dc-dw)*g/100, 1)\n",
    "df[\"Velocity\"] = np.around(df[\"Flow Rate\"]/(3600*1000*A), 4)\n",
    "df[\"Re\"] = np.around(df[\"Velocity\"]*d*dw/vw, 1)\n",
    "df[\"f(Calculated)\"] = np.around(df[\"delta P\"]*d/(2*l*dw*df[\"Velocity\"]*df[\"Velocity\"]), 4)"
   ]
  },
  {
   "cell_type": "markdown",
   "metadata": {},
   "source": [
    "Complex Calculation"
   ]
  },
  {
   "cell_type": "code",
   "execution_count": 698,
   "metadata": {},
   "outputs": [],
   "source": [
    "def complex_calculation1(row, default):\n",
    "    Re = row[\"Re\"]\n",
    "    \n",
    "    complexcalc1 = 0.079*pow(Re, -0.25) if Re >= 2100.0 else 16/Re\n",
    "    return complexcalc1\n",
    "\n",
    "df[\"f(Theoretical)\"] = np.around(df.apply(complex_calculation1, axis = 1, args=(1.0,)),4)"
   ]
  },
  {
   "cell_type": "code",
   "execution_count": 699,
   "metadata": {},
   "outputs": [],
   "source": [
    "def complex_calculation2(row, default):\n",
    "    Re = row[\"Re\"]\n",
    "    \n",
    "    if (Re>=4000.0):\n",
    "        complexcalc2= \"Turbulent\"\n",
    "    elif (Re<=2100.0):\n",
    "        complexcalc2 = \"Laminar\"\n",
    "    else:\n",
    "        complexcalc2 = \"Transitional\"\n",
    "    return complexcalc2\n",
    "\n",
    "df[\"Flow Regime\"] = df.apply(complex_calculation2, axis = 1, args=(1.0,))"
   ]
  },
  {
   "cell_type": "code",
   "execution_count": 700,
   "metadata": {},
   "outputs": [],
   "source": [
    "df[\"ln Re\"] = np.around(np.log(df[\"Re\"]),4)\n",
    "df[\"ln f(Calc)\"] = np.around(np.log(df[\"f(Calculated)\"]), 4)"
   ]
  },
  {
   "cell_type": "code",
   "execution_count": 701,
   "metadata": {},
   "outputs": [
    {
     "data": {
      "text/html": [
       "<div>\n",
       "<style scoped>\n",
       "    .dataframe tbody tr th:only-of-type {\n",
       "        vertical-align: middle;\n",
       "    }\n",
       "\n",
       "    .dataframe tbody tr th {\n",
       "        vertical-align: top;\n",
       "    }\n",
       "\n",
       "    .dataframe thead th {\n",
       "        text-align: right;\n",
       "    }\n",
       "</style>\n",
       "<table border=\"1\" class=\"dataframe\">\n",
       "  <thead>\n",
       "    <tr style=\"text-align: right;\">\n",
       "      <th></th>\n",
       "      <th>Flow Rate</th>\n",
       "      <th>delta H</th>\n",
       "      <th>delta P</th>\n",
       "      <th>Velocity</th>\n",
       "      <th>Re</th>\n",
       "      <th>f(Calculated)</th>\n",
       "      <th>f(Theoretical)</th>\n",
       "      <th>Flow Regime</th>\n",
       "      <th>ln Re</th>\n",
       "      <th>ln f(Calc)</th>\n",
       "      <th>Color</th>\n",
       "    </tr>\n",
       "  </thead>\n",
       "  <tbody>\n",
       "    <tr>\n",
       "      <th>0</th>\n",
       "      <td>48.58</td>\n",
       "      <td>1.4</td>\n",
       "      <td>66.9</td>\n",
       "      <td>0.0362</td>\n",
       "      <td>830.7</td>\n",
       "      <td>0.2042</td>\n",
       "      <td>0.0193</td>\n",
       "      <td>Laminar</td>\n",
       "      <td>6.7223</td>\n",
       "      <td>-1.5887</td>\n",
       "      <td>b</td>\n",
       "    </tr>\n",
       "    <tr>\n",
       "      <th>1</th>\n",
       "      <td>106.04</td>\n",
       "      <td>3.9</td>\n",
       "      <td>186.3</td>\n",
       "      <td>0.0789</td>\n",
       "      <td>1810.5</td>\n",
       "      <td>0.1197</td>\n",
       "      <td>0.0088</td>\n",
       "      <td>Laminar</td>\n",
       "      <td>7.5014</td>\n",
       "      <td>-2.1228</td>\n",
       "      <td>b</td>\n",
       "    </tr>\n",
       "    <tr>\n",
       "      <th>2</th>\n",
       "      <td>155.80</td>\n",
       "      <td>6.7</td>\n",
       "      <td>320.1</td>\n",
       "      <td>0.1159</td>\n",
       "      <td>2659.6</td>\n",
       "      <td>0.0953</td>\n",
       "      <td>0.0110</td>\n",
       "      <td>Transitional</td>\n",
       "      <td>7.8859</td>\n",
       "      <td>-2.3507</td>\n",
       "      <td>g</td>\n",
       "    </tr>\n",
       "    <tr>\n",
       "      <th>3</th>\n",
       "      <td>197.41</td>\n",
       "      <td>10.1</td>\n",
       "      <td>482.5</td>\n",
       "      <td>0.1469</td>\n",
       "      <td>3371.0</td>\n",
       "      <td>0.0894</td>\n",
       "      <td>0.0104</td>\n",
       "      <td>Transitional</td>\n",
       "      <td>8.1230</td>\n",
       "      <td>-2.4146</td>\n",
       "      <td>g</td>\n",
       "    </tr>\n",
       "    <tr>\n",
       "      <th>4</th>\n",
       "      <td>249.75</td>\n",
       "      <td>14.3</td>\n",
       "      <td>683.2</td>\n",
       "      <td>0.1859</td>\n",
       "      <td>4265.9</td>\n",
       "      <td>0.0791</td>\n",
       "      <td>0.0098</td>\n",
       "      <td>Turbulent</td>\n",
       "      <td>8.3584</td>\n",
       "      <td>-2.5370</td>\n",
       "      <td>r</td>\n",
       "    </tr>\n",
       "    <tr>\n",
       "      <th>5</th>\n",
       "      <td>295.89</td>\n",
       "      <td>19.2</td>\n",
       "      <td>917.3</td>\n",
       "      <td>0.2202</td>\n",
       "      <td>5053.0</td>\n",
       "      <td>0.0757</td>\n",
       "      <td>0.0094</td>\n",
       "      <td>Turbulent</td>\n",
       "      <td>8.5277</td>\n",
       "      <td>-2.5810</td>\n",
       "      <td>r</td>\n",
       "    </tr>\n",
       "    <tr>\n",
       "      <th>6</th>\n",
       "      <td>325.45</td>\n",
       "      <td>24.5</td>\n",
       "      <td>1170.5</td>\n",
       "      <td>0.2422</td>\n",
       "      <td>5557.9</td>\n",
       "      <td>0.0798</td>\n",
       "      <td>0.0091</td>\n",
       "      <td>Turbulent</td>\n",
       "      <td>8.6230</td>\n",
       "      <td>-2.5282</td>\n",
       "      <td>r</td>\n",
       "    </tr>\n",
       "    <tr>\n",
       "      <th>7</th>\n",
       "      <td>379.18</td>\n",
       "      <td>31.4</td>\n",
       "      <td>1500.1</td>\n",
       "      <td>0.2822</td>\n",
       "      <td>6475.7</td>\n",
       "      <td>0.0753</td>\n",
       "      <td>0.0088</td>\n",
       "      <td>Turbulent</td>\n",
       "      <td>8.7758</td>\n",
       "      <td>-2.5863</td>\n",
       "      <td>r</td>\n",
       "    </tr>\n",
       "  </tbody>\n",
       "</table>\n",
       "</div>"
      ],
      "text/plain": [
       "   Flow Rate  delta H  delta P  Velocity      Re  f(Calculated)  \\\n",
       "0      48.58      1.4     66.9    0.0362   830.7         0.2042   \n",
       "1     106.04      3.9    186.3    0.0789  1810.5         0.1197   \n",
       "2     155.80      6.7    320.1    0.1159  2659.6         0.0953   \n",
       "3     197.41     10.1    482.5    0.1469  3371.0         0.0894   \n",
       "4     249.75     14.3    683.2    0.1859  4265.9         0.0791   \n",
       "5     295.89     19.2    917.3    0.2202  5053.0         0.0757   \n",
       "6     325.45     24.5   1170.5    0.2422  5557.9         0.0798   \n",
       "7     379.18     31.4   1500.1    0.2822  6475.7         0.0753   \n",
       "\n",
       "   f(Theoretical)   Flow Regime   ln Re  ln f(Calc) Color  \n",
       "0          0.0193       Laminar  6.7223     -1.5887     b  \n",
       "1          0.0088       Laminar  7.5014     -2.1228     b  \n",
       "2          0.0110  Transitional  7.8859     -2.3507     g  \n",
       "3          0.0104  Transitional  8.1230     -2.4146     g  \n",
       "4          0.0098     Turbulent  8.3584     -2.5370     r  \n",
       "5          0.0094     Turbulent  8.5277     -2.5810     r  \n",
       "6          0.0091     Turbulent  8.6230     -2.5282     r  \n",
       "7          0.0088     Turbulent  8.7758     -2.5863     r  "
      ]
     },
     "execution_count": 701,
     "metadata": {},
     "output_type": "execute_result"
    }
   ],
   "source": [
    "def col(row, default):\n",
    "    Re = row[\"Re\"]\n",
    "    if Re<2100.0:\n",
    "        col1=\"b\"\n",
    "    elif Re>4000.0:\n",
    "        col1=\"r\"\n",
    "    else:\n",
    "        col1=\"g\"\n",
    "    return col1\n",
    "\n",
    "df[\"Color\"] = df.apply(col, axis = 1, args=(1.0,))\n",
    "df"
   ]
  },
  {
   "cell_type": "markdown",
   "metadata": {},
   "source": [
    "Graphs"
   ]
  },
  {
   "cell_type": "code",
   "execution_count": 702,
   "metadata": {},
   "outputs": [
    {
     "name": "stdout",
     "output_type": "stream",
     "text": [
      "ln f = -0.4837 ln Re +  1.5622\n"
     ]
    },
    {
     "data": {
      "image/png": "[encoded data removed]",
      "text/plain": [
       "<Figure size 432x288 with 1 Axes>"
      ]
     },
     "metadata": {
      "needs_background": "light"
     },
     "output_type": "display_data"
    }
   ],
   "source": [
    "df.plot(x='ln Re', y='ln f(Calc)', kind='scatter')\n",
    "m,b = np.polyfit(df[\"ln Re\"], df[\"ln f(Calc)\"], 1)\n",
    "plt.plot(df[\"ln Re\"], m*df[\"ln Re\"]+b, 'r--')\n",
    "equation = print('ln f =', np.around(m, 4), 'ln Re + ', np.around(b, 4))\n",
    "plt.xlabel('ln Re')\n",
    "plt.ylabel('ln f')\n",
    "plt.title('ln f vs ln Re')\n",
    "plt.grid()\n",
    "plt.show()"
   ]
  },
  {
   "cell_type": "code",
   "execution_count": 703,
   "metadata": {},
   "outputs": [
    {
     "data": {
      "image/png": "[encoded data removed]",
      "text/plain": [
       "<Figure size 432x288 with 1 Axes>"
      ]
     },
     "metadata": {
      "needs_background": "light"
     },
     "output_type": "display_data"
    }
   ],
   "source": [
    "df.plot(x='Re', y='f(Calculated)', kind='scatter', color=df[\"Color\"])\n",
    "plt.plot(df[\"Re\"], df[\"f(Calculated)\"], 'k--')\n",
    "plt.xlabel('Re')\n",
    "plt.ylabel('f (Calculated)')\n",
    "plt.title('f (Calculated) vs Re')\n",
    "plt.grid()\n",
    "plt.show()"
   ]
  }
 ],
 "metadata": {
  "kernelspec": {
   "display_name": "Python 3",
   "language": "python",
   "name": "python3"
  },
  "language_info": {
   "codemirror_mode": {
    "name": "ipython",
    "version": 3
   },
   "file_extension": ".py",
   "mimetype": "text/x-python",
   "name": "python",
   "nbconvert_exporter": "python",
   "pygments_lexer": "ipython3",
   "version": "3.8.5"
  }
 },
 "nbformat": 4,
 "nbformat_minor": 4
}
